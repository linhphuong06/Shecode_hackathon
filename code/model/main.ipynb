{
 "cells": [
  {
   "cell_type": "code",
   "execution_count": 146,
   "metadata": {},
   "outputs": [],
   "source": [
    "from matplotlib import pyplot as plt\n",
    "from utils_Function import *\n",
    "from utils_Optimizer import *\n",
    "import seaborn as sn\n",
    "import numpy as np"
   ]
  },
  {
   "cell_type": "code",
   "execution_count": 147,
   "metadata": {},
   "outputs": [
    {
     "name": "stdout",
     "output_type": "stream",
     "text": [
      "(2011, 9) (2011,)\n"
     ]
    }
   ],
   "source": [
    "import pandas as pd\n",
    "\n",
    "data = pd.read_csv('../water_potability.csv')\n",
    "data.head()\n",
    "\n",
    "# delete nan values\n",
    "# data.fillna(0)\n",
    "data = data.dropna()\n",
    "data.head()\n",
    "y = data['Potability'].values\n",
    "X = data.drop(['Potability'], axis=1).values\n",
    "\n",
    "print(X.shape, y.shape)"
   ]
  },
  {
   "cell_type": "code",
   "execution_count": 148,
   "metadata": {},
   "outputs": [
    {
     "name": "stdout",
     "output_type": "stream",
     "text": [
      "(1286, 9) (403, 9) (322, 9)\n",
      "(1, 1286) (1, 403) (1, 322)\n"
     ]
    }
   ],
   "source": [
    "# X_train X_test _ X_val\n",
    "from sklearn.model_selection import train_test_split\n",
    "X_train, X_test, y_train, y_test = train_test_split(X, y, test_size=0.2, random_state=42)\n",
    "X_train, X_val, y_train, y_val = train_test_split(X_train, y_train, test_size=0.2, random_state=42)\n",
    "print(X_train.shape, X_test.shape, X_val.shape)\n",
    "train_y = y_train.reshape(-1, 1).T\n",
    "test_y = y_test.reshape(-1, 1).T\n",
    "valid_y = y_val.reshape(-1, 1).T\n",
    "print(train_y.shape, test_y.shape, valid_y.shape)"
   ]
  },
  {
   "cell_type": "code",
   "execution_count": 149,
   "metadata": {},
   "outputs": [],
   "source": [
    "X_min = X_train.min(axis=0, keepdims=True)\n",
    "X_max = X_train.max(axis=0, keepdims=True)"
   ]
  },
  {
   "cell_type": "code",
   "execution_count": 150,
   "metadata": {},
   "outputs": [],
   "source": [
    "X_train = (X_train - X_min)/(X_max - X_min)\n",
    "X_val = (X_val - X_min)/(X_max - X_min)\n",
    "X_test= (X_test - X_min)/(X_max - X_min)"
   ]
  },
  {
   "cell_type": "code",
   "execution_count": 151,
   "metadata": {},
   "outputs": [],
   "source": [
    "def min_max_normalization(X):\n",
    "    return (X - np.min(X)) / (np.max(X) - np.min(X))"
   ]
  },
  {
   "cell_type": "code",
   "execution_count": 152,
   "metadata": {},
   "outputs": [
    {
     "name": "stdout",
     "output_type": "stream",
     "text": [
      "train_x's shape: (9, 1286)\n",
      "valid_x's shape: (9, 322)\n",
      "test_x's shape: (9, 403)\n"
     ]
    }
   ],
   "source": [
    "train_x_flatten = X_train.T   \n",
    "valid_x_flatten = X_val.T   \n",
    "test_x_flatten = X_test.T\n",
    "\n",
    "train_x = min_max_normalization(train_x_flatten)\n",
    "valid_x = min_max_normalization(valid_x_flatten)\n",
    "test_x = min_max_normalization(test_x_flatten)\n",
    "\n",
    "print (\"train_x's shape: \" + str(train_x.shape))\n",
    "print (\"valid_x's shape: \" + str(valid_x.shape))\n",
    "print (\"test_x's shape: \" + str(test_x.shape))"
   ]
  },
  {
   "cell_type": "code",
   "execution_count": 153,
   "metadata": {},
   "outputs": [
    {
     "data": {
      "text/plain": [
       "(1286, 9)"
      ]
     },
     "execution_count": 153,
     "metadata": {},
     "output_type": "execute_result"
    }
   ],
   "source": [
    "X_train.shape"
   ]
  },
  {
   "cell_type": "code",
   "execution_count": 154,
   "metadata": {},
   "outputs": [
    {
     "data": {
      "text/plain": [
       "array([0, 1, 0, ..., 1, 1, 0])"
      ]
     },
     "execution_count": 154,
     "metadata": {},
     "output_type": "execute_result"
    }
   ],
   "source": [
    "y_train"
   ]
  },
  {
   "cell_type": "code",
   "execution_count": 155,
   "metadata": {},
   "outputs": [
    {
     "name": "stdout",
     "output_type": "stream",
     "text": [
      "(9, 1286) (1, 1286) (9, 322) (1, 322) (9, 403) (1, 403)\n"
     ]
    }
   ],
   "source": [
    "print(train_x.shape, train_y.shape, valid_x.shape, valid_y.shape, test_x.shape, test_y.shape)"
   ]
  },
  {
   "cell_type": "code",
   "execution_count": 156,
   "metadata": {},
   "outputs": [],
   "source": [
    "layers_dims = [train_x.shape[0], 5, 1] \n",
    "keep_probs = [0, 0.2, 0.2]"
   ]
  },
  {
   "cell_type": "code",
   "execution_count": 157,
   "metadata": {},
   "outputs": [],
   "source": [
    "def L_layer_model(X_train, Y_train, X_valid, Y_valid, \n",
    "                  layers_dims, \n",
    "                  lambd=0.5, \n",
    "                  drop_out=True, \n",
    "                  keep_probs=keep_probs, \n",
    "                  learning_rate = 0.0055, \n",
    "                  mini_batch_size=64, \n",
    "                  beta=0.9, beta1=0.9, beta2=0.999, epsilon=1e-8, \n",
    "                  num_iterations = 100, \n",
    "                  print_cost=False):\n",
    "\n",
    "    costs_train = []       \n",
    "    costs_valid = []                 \n",
    "    t = 0\n",
    "    parameters = initialize_parameters_deep(layers_dims)\n",
    "    \n",
    "    v, s = initialize_adam(parameters)\n",
    " \n",
    "    for i in range(0, num_iterations):\n",
    "        \n",
    "        minibatches_train = random_mini_batches(X_train, Y_train, mini_batch_size)\n",
    "        for minibatch in minibatches_train:\n",
    "            \n",
    "            (minibatch_X, minibatch_Y) = minibatch\n",
    "\n",
    "            AL_train, caches = L_model_forward(minibatch_X, parameters, keep_probs=keep_probs, drop_out=drop_out)\n",
    "            cost_train = compute_cost(AL_train, minibatch_Y, parameters, lambd)\n",
    "            \n",
    "            AL_valid, _ = L_model_forward(X_valid, parameters, keep_probs=keep_probs, drop_out=False)\n",
    "            cost_valid = compute_cost(AL_valid, Y_valid, parameters, lambd)\n",
    "\n",
    "            grads = L_model_backward(AL_train, minibatch_Y, caches, lambd, drop_out=drop_out)\n",
    "\n",
    "            t = t + 1 \n",
    "            parameters, v, s = update_parameters_with_adam(parameters, \n",
    "                                                           grads, \n",
    "                                                           v, s,\n",
    "                                                           t, \n",
    "                                                           learning_rate, \n",
    "                                                           beta1, beta2, epsilon)\n",
    "\n",
    "        if print_cost and i % 10 == 0:\n",
    "            print(\"Train_cost after iteration %i: %f\" %(i, cost_train))\n",
    "            print(\"Valid_cost after iteration %i: %f\" %(i, cost_valid))\n",
    "            print(\"---------------------------------------------\")\n",
    "        if print_cost and i % 10 == 0:\n",
    "            costs_train.append(cost_train)\n",
    "            costs_valid.append(cost_valid)\n",
    "            \n",
    "    plt.plot(np.squeeze(costs_train), color='blue', label='Train_cost')\n",
    "    plt.plot(np.squeeze(costs_valid), color='orange', label='Val_cost')\n",
    "    plt.ylabel('cost')\n",
    "    plt.xlabel('iterations (per hundreds)')\n",
    "    plt.title(\"Learning rate =\" + str(learning_rate))\n",
    "    plt.legend(loc='lower left', shadow=True)\n",
    "    plt.show()\n",
    "    \n",
    "    return parameters, cost_train, cost_valid"
   ]
  },
  {
   "cell_type": "code",
   "execution_count": null,
   "metadata": {},
   "outputs": [],
   "source": [
    "parameters, costs_train, costs_valid = L_layer_model(train_x, train_y, \n",
    "                                                     valid_x, valid_y, \n",
    "                                                     layers_dims, \n",
    "                                                     lambd=0.1, \n",
    "                                                     num_iterations = 1000, \n",
    "                                                     print_cost = True)"
   ]
  },
  {
   "cell_type": "code",
   "execution_count": null,
   "metadata": {},
   "outputs": [],
   "source": [
    "def predict(X, y, parameters):\n",
    "    m = X.shape[1]\n",
    "    n = len(parameters) // 2 \n",
    "    \n",
    "    probas, caches = L_model_forward(X, parameters, keep_probs= keep_probs, drop_out= False)\n",
    "\n",
    "    for i in range(0, probas.shape[1]):\n",
    "        if probas[0,i] > 0.6:\n",
    "            probas[0,i] = 1\n",
    "        else:\n",
    "            probas[0,i] = 0\n",
    "    \n",
    "    print(\"Accuracy: \"  + str(np.sum((probas == y)/m)))\n",
    "        \n",
    "    return probas\n",
    "y_pred = predict(test_x, test_y, parameters)"
   ]
  },
  {
   "cell_type": "code",
   "execution_count": 160,
   "metadata": {},
   "outputs": [],
   "source": [
    "class evaluate():\n",
    "    def __init__(self, predict, real):\n",
    "        self.predict = predict\n",
    "        self.real = real\n",
    "\n",
    "        # Positive = 1, Negative = 0\n",
    "        # True Positive: predict = real = Possitive(1)\n",
    "        self.TP = ((self.predict*self.real) == 1).sum()\n",
    "        # False Negative: predict = Negative(0) but real = Positive(1)\n",
    "        self.FN = ((self.real - self.predict) == 1).sum()\n",
    "        # False Positive: predict = Positive(1) but real = Negative(0)\n",
    "        self.FP = ((self.predict - self.real) == 1).sum()\n",
    "        # True Negative: predict = real = Negative(0) \n",
    "        self.TN = ((self.predict + self.real) == 0).sum()\n",
    "    \n",
    "    def plot_confusion_matrix(self):\n",
    "        confusion_matrix = np.array([[self.TP, self.FN], [self.FP, self.TN]])\n",
    "        sn.heatmap(confusion_matrix, annot =True)\n",
    "        plt.title(\"Positive = 0, Negative = 1\")\n",
    "        plt.xlabel(\"Predict\")\n",
    "        plt.ylabel(\"Actual\")\n",
    "        \n",
    "\n",
    "    def Accuracy(self):\n",
    "        # accuracy = True / Total \n",
    "        return (self.TP + self.TN)/(self.TP + self.FN + self.FP + self.TN)\n",
    "\n",
    "    def Precision(self):\n",
    "        # trong số những dữ liệu dự đoán là positive có bao nhiêu cái là đúng\n",
    "        return self.TP / (self.TP + self.FP)\n",
    "\n",
    "    def Recall(self):\n",
    "        # trong số những dữ liệu thực sự là positive dự đoán đúng bao nhiêu\n",
    "        return self.TP / (self.TP + self.FN)\n",
    "\n",
    "    def F1_Score(self):\n",
    "        return (2*self.TP) / (2*self.TP + self.FP + self.FN)"
   ]
  },
  {
   "cell_type": "code",
   "execution_count": null,
   "metadata": {},
   "outputs": [],
   "source": [
    "check = evaluate(y_pred, test_y)\n",
    "check.plot_confusion_matrix()"
   ]
  },
  {
   "cell_type": "code",
   "execution_count": 162,
   "metadata": {},
   "outputs": [
    {
     "name": "stdout",
     "output_type": "stream",
     "text": [
      "Accuracy 0.5732009925558312\n",
      "Precision nan\n",
      "Recall 0.0\n",
      "F1_Score 0.0\n"
     ]
    },
    {
     "name": "stderr",
     "output_type": "stream",
     "text": [
      "/tmp/ipykernel_13282/767711470.py:30: RuntimeWarning: invalid value encountered in scalar divide\n",
      "  return self.TP / (self.TP + self.FP)\n"
     ]
    }
   ],
   "source": [
    "print(\"Accuracy\",check.Accuracy())\n",
    "print(\"Precision\",check.Precision())\n",
    "print(\"Recall\",check.Recall())\n",
    "print(\"F1_Score\",check.F1_Score())"
   ]
  },
  {
   "cell_type": "code",
   "execution_count": 163,
   "metadata": {},
   "outputs": [
    {
     "data": {
      "text/plain": [
       "['../nuoc.h5']"
      ]
     },
     "execution_count": 163,
     "metadata": {},
     "output_type": "execute_result"
    }
   ],
   "source": [
    "\n",
    "\n",
    "import joblib\n",
    "\n",
    "# Lưu trạng thái của mô hình\n",
    "joblib.dump(parameters, '../nuoc.h5')\n",
    "\n",
    "\n"
   ]
  }
 ],
 "metadata": {
  "kernelspec": {
   "display_name": "Python 3",
   "language": "python",
   "name": "python3"
  },
  "language_info": {
   "codemirror_mode": {
    "name": "ipython",
    "version": 3
   },
   "file_extension": ".py",
   "mimetype": "text/x-python",
   "name": "python",
   "nbconvert_exporter": "python",
   "pygments_lexer": "ipython3",
   "version": "3.10.9"
  },
  "orig_nbformat": 4
 },
 "nbformat": 4,
 "nbformat_minor": 2
}
